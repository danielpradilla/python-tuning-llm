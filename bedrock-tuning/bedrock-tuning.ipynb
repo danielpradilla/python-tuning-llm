{
 "cells": [
  {
   "cell_type": "markdown",
   "metadata": {},
   "source": [
    "# Finetune with bedrock\n",
    "\n",
    "Trying various models"
   ]
  },
  {
   "cell_type": "code",
   "execution_count": 52,
   "metadata": {},
   "outputs": [],
   "source": [
    "import json\n",
    "import os\n",
    "import boto3\n",
    "from dotenv import load_dotenv, find_dotenv\n",
    "from datetime import datetime\n",
    "import random\n",
    "\n",
    "from huggingface_hub import login\n",
    "from tokenizers import Tokenizer\n"
   ]
  },
  {
   "cell_type": "code",
   "execution_count": 91,
   "metadata": {},
   "outputs": [
    {
     "name": "stdout",
     "output_type": "stream",
     "text": [
      "The token has not been saved to the git credentials helper. Pass `add_to_git_credential=True` in this function directly or `--add-to-git-credential` if using via `huggingface-cli` if you want to set the git credential as well.\n",
      "Token is valid (permission: write).\n",
      "Your token has been saved to /Users/dpradilla/.cache/huggingface/token\n",
      "Login successful\n"
     ]
    }
   ],
   "source": [
    "#load globals\n",
    "_ = load_dotenv(find_dotenv(), override=True) # read local .env file\n",
    "HF_TOKEN=os.getenv('HF_TOKEN')\n",
    "PROJECT_FOLDER='llama2-tuning-may-2024'\n",
    "DATA_FOLDER='datasets'\n",
    "login(HF_TOKEN)"
   ]
  },
  {
   "cell_type": "code",
   "execution_count": 54,
   "metadata": {},
   "outputs": [
    {
     "name": "stdout",
     "output_type": "stream",
     "text": [
      "Session(region_name='us-east-1')\n",
      "<botocore.client.Bedrock object at 0x10b4ea530>\n",
      "bedrock-us-east-1-510357808667\n"
     ]
    }
   ],
   "source": [
    "session = boto3.session.Session()\n",
    "region = session.region_name\n",
    "sts_client = boto3.client('sts')\n",
    "account_id = sts_client.get_caller_identity()[\"Account\"]\n",
    "s3_suffix = f\"{region}-{account_id}\"\n",
    "s3_client = boto3.client('s3')\n",
    "bedrock = boto3.client(service_name=\"bedrock\")\n",
    "bedrock_runtime = boto3.client(service_name=\"bedrock-runtime\")\n",
    "iam = boto3.client('iam', region_name=region)\n",
    "bedrock_bucket_name = f\"bedrock-{region}-{account_id}\"\n",
    "print(session)\n",
    "print(bedrock)\n",
    "print(bedrock_bucket_name)"
   ]
  },
  {
   "cell_type": "markdown",
   "metadata": {},
   "source": [
    "### Find out which models are available for fine tuning"
   ]
  },
  {
   "cell_type": "code",
   "execution_count": 69,
   "metadata": {},
   "outputs": [
    {
     "name": "stdout",
     "output_type": "stream",
     "text": [
      "amazon.titan-image-generator-v1:0\n",
      "amazon.titan-text-lite-v1:0:4k\n",
      "amazon.titan-text-express-v1:0:8k\n",
      "amazon.titan-embed-image-v1:0\n",
      "cohere.command-text-v14:7:4k\n",
      "cohere.command-light-text-v14:7:4k\n",
      "meta.llama2-13b-v1:0:4k\n",
      "meta.llama2-70b-v1:0:4k\n"
     ]
    }
   ],
   "source": [
    "for model in bedrock.list_foundation_models(byCustomizationType=\"FINE_TUNING\")[\"modelSummaries\"]:\n",
    "    print (model[\"modelId\"])\n",
    "\n",
    "MODEL_ID=\"meta.llama2-13b-v1:0:4k\"\n",
    "HF_MODEL_ID=\"meta-llama/Llama-2-13b-chat-hf\""
   ]
  },
  {
   "cell_type": "markdown",
   "metadata": {},
   "source": [
    "### Create role and policies to run finetuning jobs in Bedrock"
   ]
  },
  {
   "cell_type": "code",
   "execution_count": 70,
   "metadata": {},
   "outputs": [],
   "source": [
    "ROLE_DOC = f\"\"\"{{\n",
    "    \"Version\": \"2012-10-17\",\n",
    "    \"Statement\": [\n",
    "        {{\n",
    "            \"Effect\": \"Allow\",\n",
    "            \"Principal\": {{\n",
    "                \"Service\": \"bedrock.amazonaws.com\"\n",
    "            }},\n",
    "            \"Action\": \"sts:AssumeRole\",\n",
    "            \"Condition\": {{\n",
    "                \"StringEquals\": {{\n",
    "                    \"aws:SourceAccount\": \"{account_id}\"\n",
    "                }},\n",
    "                \"ArnEquals\": {{\n",
    "                    \"aws:SourceArn\": \"arn:aws:bedrock:{region}:{account_id}:model-customization-job/*\"\n",
    "                }}\n",
    "            }}\n",
    "        }}\n",
    "    ]\n",
    "}}\n",
    "\"\"\"\n",
    "ACCESS_POLICY_DOC = f\"\"\"{{\n",
    "    \"Version\": \"2012-10-17\",\n",
    "    \"Statement\": [\n",
    "        {{\n",
    "            \"Effect\": \"Allow\",\n",
    "            \"Action\": [\n",
    "                \"s3:AbortMultipartUpload\",\n",
    "                \"s3:DeleteObject\",\n",
    "                \"s3:PutObject\",\n",
    "                \"s3:GetObject\",\n",
    "                \"s3:GetBucketAcl\",\n",
    "                \"s3:GetBucketNotification\",\n",
    "                \"s3:ListBucket\",\n",
    "                \"s3:PutBucketNotification\"\n",
    "            ],\n",
    "            \"Resource\": [\n",
    "                \"arn:aws:s3:::{bedrock_bucket_name}\",\n",
    "                \"arn:aws:s3:::{bedrock_bucket_name}/*\"\n",
    "            ]\n",
    "        }}\n",
    "    ]\n",
    "}}\"\"\""
   ]
  },
  {
   "cell_type": "code",
   "execution_count": 71,
   "metadata": {},
   "outputs": [
    {
     "name": "stdout",
     "output_type": "stream",
     "text": [
      "Role already exists.\n",
      "arn:aws:iam::510357808667:role/BedrockRole-510357808667\n"
     ]
    }
   ],
   "source": [
    "role_name=f\"BedrockRole-{account_id}\"\n",
    "try:\n",
    "    # Try to get the role if it exists\n",
    "    response = iam.get_role(RoleName=role_name)\n",
    "    print(\"Role already exists.\")\n",
    "except iam.exceptions.NoSuchEntityException:\n",
    "    # If the role does not exist, create it\n",
    "    print(\"Role does not exist. Creating role...\")\n",
    "    response = iam.create_role(\n",
    "        RoleName=role_name,\n",
    "        AssumeRolePolicyDocument=ROLE_DOC,\n",
    "        Description=\"Role for Bedrock to access S3 for finetuning\",\n",
    "    )\n",
    "\n",
    "# Print the role ARN\n",
    "role_arn = response[\"Role\"][\"Arn\"]\n",
    "print(role_arn)"
   ]
  },
  {
   "cell_type": "code",
   "execution_count": 72,
   "metadata": {},
   "outputs": [
    {
     "name": "stdout",
     "output_type": "stream",
     "text": [
      "Policy found with ARN: arn:aws:iam::510357808667:policy/BedrockPolicy-510357808667\n",
      "Detached from role: BedrockRole-510357808667\n",
      "Policy deleted.\n",
      "Policy recreated with ARN: arn:aws:iam::510357808667:policy/BedrockPolicy-510357808667\n"
     ]
    }
   ],
   "source": [
    "policy_name=f\"BedrockPolicy-{account_id}\"\n",
    "\n",
    "try:\n",
    "    # Check if the policy exists and get its ARN\n",
    "    paginator = iam.get_paginator('list_policies')\n",
    "    policy_arn = None\n",
    "    for response in paginator.paginate(Scope='Local'):\n",
    "        found_policy = next((policy for policy in response['Policies'] if policy['PolicyName'] == policy_name), None)\n",
    "        if found_policy:\n",
    "            policy_arn = found_policy['Arn']\n",
    "            print(\"Policy found with ARN:\", policy_arn)\n",
    "            break\n",
    "    else:\n",
    "        print(\"Policy not found. No need to detach or delete.\")\n",
    "\n",
    "    if policy_arn:\n",
    "        # Detach policy from all entities\n",
    "        paginator = iam.get_paginator('list_entities_for_policy')\n",
    "        for response in paginator.paginate(PolicyArn=policy_arn):\n",
    "            for role in response.get('PolicyRoles', []):\n",
    "                iam.detach_role_policy(RoleName=role['RoleName'], PolicyArn=policy_arn)\n",
    "                print(f\"Detached from role: {role['RoleName']}\")\n",
    "            for user in response.get('PolicyUsers', []):\n",
    "                iam.detach_user_policy(UserName=user['UserName'], PolicyArn=policy_arn)\n",
    "                print(f\"Detached from user: {user['UserName']}\")\n",
    "            for group in response.get('PolicyGroups', []):\n",
    "                iam.detach_group_policy(GroupName=group['GroupName'], PolicyArn=policy_arn)\n",
    "                print(f\"Detached from group: {group['GroupName']}\")\n",
    "\n",
    "        # Delete the policy\n",
    "        iam.delete_policy(PolicyArn=policy_arn)\n",
    "        print(\"Policy deleted.\")\n",
    "\n",
    "    # Recreate the policy\n",
    "    response = iam.create_policy(\n",
    "        PolicyName=policy_name,\n",
    "        PolicyDocument=ACCESS_POLICY_DOC,\n",
    "    )\n",
    "    policy_arn = response['Policy']['Arn']\n",
    "    print(\"Policy recreated with ARN:\", policy_arn)\n",
    "\n",
    "except Exception as e:\n",
    "    print(f\"An error occurred: {e}\")"
   ]
  },
  {
   "cell_type": "code",
   "execution_count": 73,
   "metadata": {},
   "outputs": [
    {
     "data": {
      "text/plain": [
       "{'ResponseMetadata': {'RequestId': 'e3dc0d76-9e3e-4934-9cb9-b4d1417761c9',\n",
       "  'HTTPStatusCode': 200,\n",
       "  'HTTPHeaders': {'date': 'Wed, 08 May 2024 21:09:11 GMT',\n",
       "   'x-amzn-requestid': 'e3dc0d76-9e3e-4934-9cb9-b4d1417761c9',\n",
       "   'content-type': 'text/xml',\n",
       "   'content-length': '212'},\n",
       "  'RetryAttempts': 0}}"
      ]
     },
     "execution_count": 73,
     "metadata": {},
     "output_type": "execute_result"
    }
   ],
   "source": [
    "iam.attach_role_policy(\n",
    "    RoleName=role_name,\n",
    "    PolicyArn=policy_arn,\n",
    ")"
   ]
  },
  {
   "cell_type": "code",
   "execution_count": 74,
   "metadata": {},
   "outputs": [
    {
     "data": {
      "text/plain": [
       "'hola'"
      ]
     },
     "execution_count": 74,
     "metadata": {},
     "output_type": "execute_result"
    }
   ],
   "source": [
    "tokenizer = Tokenizer.from_pretrained(HF_MODEL_ID)\n",
    "tokenizer.decode(tokenizer.encode(\"hola como estas\").ids[:3])\n"
   ]
  },
  {
   "cell_type": "markdown",
   "metadata": {},
   "source": [
    "### Prepare and upload the data\n",
    "\n",
    "Data format reference: https://docs.aws.amazon.com/bedrock/latest/userguide/model-customization-prepare.html"
   ]
  },
  {
   "cell_type": "code",
   "execution_count": 75,
   "metadata": {},
   "outputs": [],
   "source": [
    "#truncate the training and validation files to fit in the training window\n",
    "\n",
    "MAX_CHARACTERS = 24400\n",
    "MAX_TOKENS = 4000\n",
    "tokenizer = Tokenizer.from_pretrained(HF_MODEL_ID)\n",
    "\n",
    "for filename in os.listdir(\"data\"):\n",
    "    if filename.endswith('.jsonl'):\n",
    "        file_path = os.path.join(\"data\", filename)\n",
    "        # Read all the data from the file\n",
    "        with open(file_path, 'r', encoding='utf-8') as file:\n",
    "            lines = file.readlines()\n",
    "\n",
    "        # Truncate completions and write back to the file\n",
    "        with open(file_path, 'w', encoding='utf-8') as file:\n",
    "            for line in lines:\n",
    "                data = json.loads(line)\n",
    "                # Truncate the 'completion' field if it's too long\n",
    "                input_tokens = tokenizer.encode(data['prompt'])\n",
    "                output_tokens = tokenizer.encode(data['completion'])\n",
    "                if (len(input_tokens)+len(output_tokens))>MAX_TOKENS:\n",
    "                    print(f'too long! output_tokens:{len(output_tokens)}')\n",
    "                    max_output_length = MAX_TOKENS - len(input_tokens)\n",
    "                    data['completion'] = tokenizer.decode(output_tokens.ids[:max_output_length])\n",
    "                # Write the updated JSON line back to the file\n",
    "                json.dump(data, file, ensure_ascii=False)\n",
    "                file.write('\\n')  # Ensure each record is on a new line\n"
   ]
  },
  {
   "cell_type": "code",
   "execution_count": 76,
   "metadata": {},
   "outputs": [],
   "source": [
    "s3_client.upload_file(f'data/tuning_entries_training.jsonl', bedrock_bucket_name, f\"{PROJECT_FOLDER}/train/train.jsonl\")\n",
    "s3_client.upload_file(f'data/tuning_entries_validation.jsonl', bedrock_bucket_name, f\"{PROJECT_FOLDER}/validation/validation.jsonl\")\n",
    "\n",
    "s3_train_uri=f's3://{bedrock_bucket_name}/{PROJECT_FOLDER}/train/train.jsonl'\n",
    "s3_validation_uri=f's3://{bedrock_bucket_name}/{PROJECT_FOLDER}/validation/validation.jsonl'\n",
    "\n",
    "#folder to store tuning output results\n",
    "s3_client.put_object(Bucket=bedrock_bucket_name, Key=\"{PROJECT_FOLDER}/model-output/\")\n",
    "s3_output_uri=f's3://{bedrock_bucket_name}/{PROJECT_FOLDER}/model-output/'\n",
    "\n",
    "\n"
   ]
  },
  {
   "cell_type": "markdown",
   "metadata": {},
   "source": [
    "## Training"
   ]
  },
  {
   "cell_type": "code",
   "execution_count": 78,
   "metadata": {},
   "outputs": [
    {
     "name": "stdout",
     "output_type": "stream",
     "text": [
      "Model Name: metallama270bv104k-83DF7\n",
      "Job Name: metallama270bv104k-83DF7-20240508230936\n"
     ]
    },
    {
     "data": {
      "text/plain": [
       "{'ResponseMetadata': {'RequestId': '88f182c7-21c9-4af2-a8db-1ed963701dfa',\n",
       "  'HTTPStatusCode': 201,\n",
       "  'HTTPHeaders': {'date': 'Wed, 08 May 2024 21:09:36 GMT',\n",
       "   'content-type': 'application/json',\n",
       "   'content-length': '112',\n",
       "   'connection': 'keep-alive',\n",
       "   'x-amzn-requestid': '88f182c7-21c9-4af2-a8db-1ed963701dfa'},\n",
       "  'RetryAttempts': 0},\n",
       " 'jobArn': 'arn:aws:bedrock:us-east-1:510357808667:model-customization-job/meta.llama2-70b-v1:0:4k/uwgqju0q1yzp'}"
      ]
     },
     "execution_count": 78,
     "metadata": {},
     "output_type": "execute_result"
    }
   ],
   "source": [
    "model_name = MODEL_ID.replace('-', '').replace(':', '').replace('.', '') +'-'+''.join(random.choices('0123456789ABCDEF', k=5))\n",
    "print(f\"Model Name: {model_name}\")\n",
    "# Current timestamp\n",
    "job_name = f\"{model_name}-{datetime.now().strftime('%Y%m%d%H%M%S')}\"\n",
    "print(f\"Job Name: {job_name}\")\n",
    "\n",
    "hyper_parameters = {\n",
    "        \"epochCount\": \"2\",\n",
    "        \"batchSize\": \"1\",\n",
    "        \"learningRate\": \"0.00001\",\n",
    "    }\n",
    "\n",
    "bedrock.create_model_customization_job(\n",
    "    customizationType=\"FINE_TUNING\",\n",
    "    jobName=job_name,\n",
    "    customModelName=model_name,\n",
    "    roleArn=role_arn,\n",
    "    baseModelIdentifier=MODEL_ID,\n",
    "    hyperParameters = hyper_parameters,\n",
    "    trainingDataConfig={\"s3Uri\": s3_train_uri},\n",
    "    validationDataConfig={\"validators\": [{\"s3Uri\": s3_validation_uri}]},\n",
    "    outputDataConfig={\"s3Uri\": s3_output_uri},\n",
    ")"
   ]
  },
  {
   "cell_type": "code",
   "execution_count": 79,
   "metadata": {},
   "outputs": [
    {
     "name": "stdout",
     "output_type": "stream",
     "text": [
      "InProgress\n",
      "InProgress\n",
      "InProgress\n",
      "InProgress\n",
      "InProgress\n",
      "InProgress\n",
      "InProgress\n",
      "InProgress\n",
      "InProgress\n",
      "InProgress\n",
      "InProgress\n",
      "InProgress\n",
      "InProgress\n",
      "InProgress\n",
      "InProgress\n",
      "InProgress\n",
      "InProgress\n",
      "InProgress\n",
      "InProgress\n",
      "InProgress\n",
      "InProgress\n",
      "InProgress\n",
      "InProgress\n",
      "InProgress\n",
      "InProgress\n",
      "InProgress\n",
      "InProgress\n",
      "InProgress\n",
      "InProgress\n",
      "InProgress\n",
      "InProgress\n",
      "InProgress\n",
      "InProgress\n",
      "InProgress\n",
      "InProgress\n",
      "InProgress\n",
      "InProgress\n",
      "InProgress\n",
      "InProgress\n",
      "InProgress\n",
      "InProgress\n",
      "InProgress\n",
      "InProgress\n",
      "InProgress\n",
      "InProgress\n",
      "InProgress\n",
      "InProgress\n",
      "InProgress\n",
      "InProgress\n",
      "InProgress\n",
      "InProgress\n",
      "InProgress\n",
      "InProgress\n",
      "InProgress\n",
      "InProgress\n",
      "InProgress\n",
      "InProgress\n",
      "InProgress\n",
      "InProgress\n",
      "InProgress\n",
      "InProgress\n",
      "InProgress\n",
      "InProgress\n",
      "InProgress\n",
      "InProgress\n",
      "InProgress\n",
      "InProgress\n",
      "InProgress\n",
      "InProgress\n",
      "Completed\n"
     ]
    }
   ],
   "source": [
    "import time\n",
    "fine_tune_job = bedrock.get_model_customization_job(jobIdentifier=job_name)[\"status\"]\n",
    "print(fine_tune_job)\n",
    "\n",
    "while fine_tune_job == \"InProgress\":\n",
    "    time.sleep(60)\n",
    "    fine_tune_job = bedrock.get_model_customization_job(jobIdentifier=job_name)[\"status\"]\n",
    "    print (fine_tune_job)"
   ]
  },
  {
   "cell_type": "markdown",
   "metadata": {},
   "source": [
    "## Get custom models"
   ]
  },
  {
   "cell_type": "code",
   "execution_count": null,
   "metadata": {},
   "outputs": [
    {
     "data": {
      "text/plain": [
       "{'ResponseMetadata': {'RequestId': 'edfe5467-95e5-4ab6-b2ff-c8e9dd8d123d',\n",
       "  'HTTPStatusCode': 200,\n",
       "  'HTTPHeaders': {'date': 'Fri, 10 May 2024 12:59:10 GMT',\n",
       "   'content-type': 'application/json',\n",
       "   'content-length': '1000',\n",
       "   'connection': 'keep-alive',\n",
       "   'x-amzn-requestid': 'edfe5467-95e5-4ab6-b2ff-c8e9dd8d123d'},\n",
       "  'RetryAttempts': 0},\n",
       " 'modelSummaries': [{'modelArn': 'arn:aws:bedrock:us-east-1:510357808667:custom-model/meta.llama2-70b-v1:0:4k/q8tm67wt6tar',\n",
       "   'modelName': 'metallama270bv104k-83DF7',\n",
       "   'creationTime': datetime.datetime(2024, 5, 8, 21, 9, 36, 491000, tzinfo=tzutc()),\n",
       "   'baseModelArn': 'arn:aws:bedrock:us-east-1::foundation-model/meta.llama2-70b-v1:0:4k',\n",
       "   'baseModelName': '',\n",
       "   'customizationType': 'FINE_TUNING'},\n",
       "  {'modelArn': 'arn:aws:bedrock:us-east-1:510357808667:custom-model/meta.llama2-13b-v1:0:4k/8r3vbau5chez',\n",
       "   'modelName': 'metallama213bv104k-E3F44',\n",
       "   'creationTime': datetime.datetime(2024, 5, 8, 12, 55, 49, 269000, tzinfo=tzutc()),\n",
       "   'baseModelArn': 'arn:aws:bedrock:us-east-1::foundation-model/meta.llama2-13b-v1:0:4k',\n",
       "   'baseModelName': '',\n",
       "   'customizationType': 'FINE_TUNING'},\n",
       "  {'modelArn': 'arn:aws:bedrock:us-east-1:510357808667:custom-model/meta.llama2-13b-v1:0:4k/29itluavcnki',\n",
       "   'modelName': 'metallama213bv104k',\n",
       "   'creationTime': datetime.datetime(2024, 5, 8, 9, 33, 5, 672000, tzinfo=tzutc()),\n",
       "   'baseModelArn': 'arn:aws:bedrock:us-east-1::foundation-model/meta.llama2-13b-v1:0:4k',\n",
       "   'baseModelName': '',\n",
       "   'customizationType': 'FINE_TUNING'}]}"
      ]
     },
     "execution_count": 81,
     "metadata": {},
     "output_type": "execute_result"
    }
   ],
   "source": [
    "bedrock.list_custom_models()\n"
   ]
  },
  {
   "cell_type": "code",
   "execution_count": 130,
   "metadata": {},
   "outputs": [
    {
     "name": "stdout",
     "output_type": "stream",
     "text": [
      "custom model arn: arn:aws:bedrock:us-east-1:510357808667:custom-model/meta.llama2-13b-v1:0:4k/8r3vbau5chez\n",
      "custom model job name: model-customization-job-g86picqn6m75\n"
     ]
    }
   ],
   "source": [
    "# retrieve the modelArn of the fine-tuned model\n",
    "selected_model = 'metallama213bv104k-E3F44'\n",
    "fine_tune_job = bedrock.get_custom_model(modelIdentifier=selected_model)\n",
    "custom_model_id = fine_tune_job['modelArn']\n",
    "print(f\"custom model arn: {custom_model_id}\")\n",
    "output_job_name = \"model-customization-job-\"+fine_tune_job['jobArn'].split('/')[-1]\n",
    "print(f\"custom model job name: {output_job_name}\")"
   ]
  },
  {
   "cell_type": "markdown",
   "metadata": {},
   "source": [
    "## Visualize results"
   ]
  },
  {
   "cell_type": "code",
   "execution_count": 112,
   "metadata": {},
   "outputs": [],
   "source": [
    "output_metrics_path = f\"data/output/{PROJECT_FOLDER}/{output_job_name}\"\n",
    "os.makedirs(output_metrics_path, exist_ok=True)\n"
   ]
  },
  {
   "cell_type": "code",
   "execution_count": 113,
   "metadata": {},
   "outputs": [
    {
     "name": "stdout",
     "output_type": "stream",
     "text": [
      "llama2-tuning-may-2024/model-output/model-customization-job-uwgqju0q1yzp/training_artifacts/step_wise_training_metrics.csv\n"
     ]
    }
   ],
   "source": [
    "train_metrics_s3_prefix=f\"{PROJECT_FOLDER}/model-output/{output_job_name}/training_artifacts/step_wise_training_metrics.csv\"\n",
    "validation_metrics_s3_prefix=f\"{PROJECT_FOLDER}/model-output/{output_job_name}/validation_artifacts/post_fine_tuning_validation/validation/validation_metrics.csv\"\n",
    "train_metrics_name='train_metrics.csv'\n",
    "validation_metrics_name='validation_metrics.csv'\n",
    "train_file_name_local=output_metrics_path+'/'+train_metrics_name\n",
    "validation_file_name_local=output_metrics_path+'/'+validation_metrics_name\n",
    "print(train_metrics_s3_prefix)\n",
    "s3_client.download_file(bedrock_bucket_name, train_metrics_s3_prefix, train_file_name_local)\n",
    "s3_client.download_file(bedrock_bucket_name, validation_metrics_s3_prefix, validation_file_name_local)"
   ]
  },
  {
   "cell_type": "code",
   "execution_count": 114,
   "metadata": {},
   "outputs": [],
   "source": [
    "import pandas as pd\n",
    "from matplotlib import pyplot as plt\n",
    "\n",
    "train_data = pd.read_csv(train_file_name_local)\n",
    "train_metrics_epoch=train_data.groupby('epoch_number').mean()\n",
    "validation_metrics_epoch=pd.read_csv(validation_file_name_local)"
   ]
  },
  {
   "cell_type": "code",
   "execution_count": 115,
   "metadata": {},
   "outputs": [
    {
     "data": {
      "image/png": "[encoded data removed]",
      "text/plain": [
       "<Figure size 640x480 with 1 Axes>"
      ]
     },
     "metadata": {},
     "output_type": "display_data"
    }
   ],
   "source": [
    "plt.plot(validation_metrics_epoch.epoch_number, validation_metrics_epoch.validation_loss,label='validation')\n",
    "plt.plot(train_metrics_epoch.index, train_metrics_epoch.training_loss,label='training')\n",
    "plt.title('Training vs Validation Loss')\n",
    "plt.ylabel('Loss')\n",
    "plt.xlabel('Epoch')\n",
    "plt.legend()\n",
    "plt.show()"
   ]
  },
  {
   "cell_type": "markdown",
   "metadata": {},
   "source": [
    "## Provision model"
   ]
  },
  {
   "cell_type": "code",
   "execution_count": 131,
   "metadata": {},
   "outputs": [
    {
     "name": "stdout",
     "output_type": "stream",
     "text": [
      "custom model arn: arn:aws:bedrock:us-east-1:510357808667:custom-model/meta.llama2-13b-v1:0:4k/8r3vbau5chez\n"
     ]
    }
   ],
   "source": [
    "# Create the provision throughput job and retrieve the provisioned model id\n",
    "print(f\"custom model arn: {custom_model_id}\")\n",
    "provisioned_model_id = bedrock.create_provisioned_model_throughput(\n",
    "     modelUnits=1,\n",
    "    # create a name for your provisioned throughput model\n",
    "     provisionedModelName=f'test-{selected_model}', \n",
    "     modelId=custom_model_id\n",
    "    )['provisionedModelArn']  \n",
    "print(provisioned_model_id)"
   ]
  },
  {
   "cell_type": "code",
   "execution_count": 132,
   "metadata": {},
   "outputs": [
    {
     "name": "stdout",
     "output_type": "stream",
     "text": [
      "Creating\n",
      "Creating\n",
      "Creating\n",
      "Creating\n",
      "Creating\n",
      "Creating\n",
      "Creating\n",
      "InService\n",
      "299 ms ± 131 ms per loop (mean ± std. dev. of 7 runs, 1 loop each)\n"
     ]
    }
   ],
   "source": [
    "%%timeit\n",
    "# check provisioned throughput job status\n",
    "import time\n",
    "status_provisioning = bedrock.get_provisioned_model_throughput(provisionedModelId = provisioned_model_id)['status'] \n",
    "while status_provisioning == 'Creating':\n",
    "    time.sleep(60)\n",
    "    status_provisioning = bedrock.get_provisioned_model_throughput(provisionedModelId=provisioned_model_id)['status']\n",
    "    print(status_provisioning)"
   ]
  },
  {
   "cell_type": "markdown",
   "metadata": {},
   "source": [
    "## Prompt provisioned model"
   ]
  },
  {
   "cell_type": "code",
   "execution_count": 133,
   "metadata": {},
   "outputs": [],
   "source": [
    "def prompt_model(provisioned_model_id, prompt):\n",
    "    body = json.dumps({\n",
    "        \"prompt\": prompt,\n",
    "        # specify the parameters as needed\n",
    "        \"max_gen_len\": 200,\n",
    "        \"temperature\": 0.4,\n",
    "        \"top_p\": 0.3,\n",
    "    })\n",
    "\n",
    "    response = bedrock_runtime.invoke_model(body=body, modelId=provisioned_model_id, accept='application/json', contentType='application/json')\n",
    "    response_body = json.loads(response.get('body').read())\n",
    "    print(response_body)"
   ]
  },
  {
   "cell_type": "code",
   "execution_count": 140,
   "metadata": {},
   "outputs": [
    {
     "name": "stdout",
     "output_type": "stream",
     "text": [
      "{'generation': '.\\nROBELLO CHEBELO MAMELO\\n1990-01-01 00:00:00\\n\\n\\n\\n\\n\\n\\n\\n\\n\\n\\n\\n\\n\\n\\n\\n\\n\\n\\n\\n\\n\\n\\n\\n\\n\\n\\n\\n\\n\\n\\n\\n\\n\\n\\n\\n\\n\\n\\n\\n\\n\\n\\n\\n\\n\\n\\n\\n\\n\\n\\n\\n\\n\\n\\n\\n\\n\\n\\n\\n\\n\\n\\n\\n\\n\\n\\n\\n\\n\\n\\n\\n\\n\\n\\n\\n\\n\\n\\n\\n\\n\\n\\n\\n\\n\\n\\n\\n\\n\\n\\n\\n\\n\\n\\n\\n\\n\\n\\n\\n\\n\\n\\n\\n\\n\\n\\n\\n\\n\\n\\n\\n\\n\\n\\n\\n\\n\\n\\n\\n\\n\\n\\n\\n\\n\\n\\n\\n\\n\\n\\n\\n\\n\\n\\n\\n\\n\\n\\n\\n\\n\\n\\n\\n\\n\\n\\n\\n\\n\\n\\n\\n\\n\\n\\n\\n\\n\\n\\n\\n\\n\\n\\n\\n\\n\\n\\n', 'prompt_token_count': 30, 'generation_token_count': 200, 'stop_reason': 'length'}\n"
     ]
    }
   ],
   "source": [
    "prompt = \"Escribe una entrada corta de diario por ROBELLO CHEBELO MAMELO cuando tenía 25 años\"\n",
    "prompt_model(provisioned_model_id, prompt)"
   ]
  },
  {
   "cell_type": "markdown",
   "metadata": {},
   "source": [
    "### Clean up"
   ]
  },
  {
   "cell_type": "code",
   "execution_count": 141,
   "metadata": {},
   "outputs": [
    {
     "data": {
      "text/plain": [
       "{'ResponseMetadata': {'RequestId': '92052355-459b-44e4-bfb9-a7f8a97c02bf',\n",
       "  'HTTPStatusCode': 200,\n",
       "  'HTTPHeaders': {'date': 'Mon, 13 May 2024 11:51:44 GMT',\n",
       "   'content-type': 'application/json',\n",
       "   'content-length': '2',\n",
       "   'connection': 'keep-alive',\n",
       "   'x-amzn-requestid': '92052355-459b-44e4-bfb9-a7f8a97c02bf'},\n",
       "  'RetryAttempts': 0}}"
      ]
     },
     "execution_count": 141,
     "metadata": {},
     "output_type": "execute_result"
    }
   ],
   "source": [
    "# delete the provisioned throughput\n",
    "bedrock.delete_provisioned_model_throughput(provisionedModelId=provisioned_model_id)"
   ]
  },
  {
   "cell_type": "code",
   "execution_count": null,
   "metadata": {},
   "outputs": [],
   "source": []
  }
 ],
 "metadata": {
  "kernelspec": {
   "display_name": "venv",
   "language": "python",
   "name": "python3"
  },
  "language_info": {
   "codemirror_mode": {
    "name": "ipython",
    "version": 3
   },
   "file_extension": ".py",
   "mimetype": "text/x-python",
   "name": "python",
   "nbconvert_exporter": "python",
   "pygments_lexer": "ipython3",
   "version": "3.10.13"
  }
 },
 "nbformat": 4,
 "nbformat_minor": 2
}
