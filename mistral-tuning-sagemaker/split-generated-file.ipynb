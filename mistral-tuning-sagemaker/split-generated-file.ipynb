{
 "cells": [
  {
   "cell_type": "markdown",
   "metadata": {},
   "source": [
    "## Split the generated file into multiple individual txt files"
   ]
  },
  {
   "cell_type": "code",
   "execution_count": 2,
   "metadata": {},
   "outputs": [],
   "source": [
    "import os\n",
    "import re\n",
    "\n",
    "# Path to your input file\n",
    "INPUT_FILE = 'data/generated.csv'"
   ]
  },
  {
   "cell_type": "markdown",
   "metadata": {},
   "source": []
  },
  {
   "cell_type": "code",
   "execution_count": 3,
   "metadata": {},
   "outputs": [],
   "source": [
    "# Read the content of the file\n",
    "with open(INPUT_FILE, 'r', encoding='utf-8') as file:\n",
    "    content = file.read()\n",
    "\n",
    "# Split the content by the [INST] tag\n",
    "parts = re.split(r'\\[INST\\]', content)\n",
    "\n",
    "# Function to sanitize and create a filename from text\n",
    "def create_filename(text):\n",
    "    # Take the first five words, join them, and remove non-alphanumeric characters\n",
    "    first_five_words = ' '.join(text.split()[:5])\n",
    "    sanitized = re.sub(r'[^a-zA-Z0-9]+', '', first_five_words)\n",
    "    return sanitized\n",
    "\n",
    "# Process each part except the first one, since it's before the first [INST]\n",
    "for part in parts[1:]:\n",
    "    # Extract the age from the instruction\n",
    "    age_match = re.search(r'cuando tenía (\\d+) años', part)\n",
    "    if age_match:\n",
    "        age = age_match.group(1)\n",
    "        # Create a directory for the age if it doesn't exist\n",
    "        directory = f'./data/generated/{age}_years'\n",
    "        os.makedirs(directory, exist_ok=True)\n",
    "        \n",
    "        # Extract the content after the instruction\n",
    "        content_start = part.find(']') + 1\n",
    "        file_content = part[content_start:].strip()\n",
    "        \n",
    "        # Create a filename from the first five words of the file content\n",
    "        filename = f\"{create_filename(file_content)}.txt\"\n",
    "        \n",
    "        # Write the content to the file in the appropriate directory\n",
    "        with open(os.path.join(directory, filename), 'w', encoding='utf-8') as output_file:\n",
    "            output_file.write(file_content)\n"
   ]
  },
  {
   "cell_type": "code",
   "execution_count": null,
   "metadata": {},
   "outputs": [],
   "source": []
  }
 ],
 "metadata": {
  "kernelspec": {
   "display_name": "venv",
   "language": "python",
   "name": "python3"
  },
  "language_info": {
   "codemirror_mode": {
    "name": "ipython",
    "version": 3
   },
   "file_extension": ".py",
   "mimetype": "text/x-python",
   "name": "python",
   "nbconvert_exporter": "python",
   "pygments_lexer": "ipython3",
   "version": "3.10.13"
  }
 },
 "nbformat": 4,
 "nbformat_minor": 2
}
